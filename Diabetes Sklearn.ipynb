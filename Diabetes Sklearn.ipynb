{
 "cells": [
  {
   "cell_type": "markdown",
   "metadata": {},
   "source": [
    "<h2>Diabetes dataset in Scikit-learn library</h2>"
   ]
  },
  {
   "cell_type": "markdown",
   "metadata": {},
   "source": [
    "<h2>Load data</h2>"
   ]
  },
  {
   "cell_type": "code",
   "execution_count": 6,
   "metadata": {},
   "outputs": [],
   "source": [
    "import pandas as pd\n",
    "from sklearn.utils import shuffle\n",
    "from sklearn.preprocessing import LabelEncoder\n",
    "from sklearn.preprocessing import StandardScaler\n",
    "\n",
    "# Load data\n",
    "\n",
    "# Split data into X and y\n",
    "\n",
    "# Shuffle data\n",
    "\n",
    "# Convert class label strings to integers\n",
    "\n",
    "# Normalize data to avoid high input values\n"
   ]
  },
  {
   "cell_type": "markdown",
   "metadata": {},
   "source": [
    "<h2>Train-test split</h2>"
   ]
  },
  {
   "cell_type": "code",
   "execution_count": 7,
   "metadata": {},
   "outputs": [],
   "source": [
    "from sklearn.model_selection import train_test_split\n"
   ]
  },
  {
   "cell_type": "markdown",
   "metadata": {},
   "source": [
    "<h2>Train and evaluate model on training data</h2>"
   ]
  },
  {
   "cell_type": "code",
   "execution_count": 12,
   "metadata": {},
   "outputs": [
    {
     "name": "stdout",
     "output_type": "stream",
     "text": [
      "Accuracy: 0.00%\n",
      "Confusion Matrix:\n",
      "\n"
     ]
    }
   ],
   "source": [
    "from sklearn.neural_network import MLPClassifier\n",
    "from sklearn.metrics import accuracy_score\n",
    "from sklearn.metrics import confusion_matrix\n",
    "\n",
    "# Define neural network model\n",
    "\n",
    "# Train model on training data\n",
    "\n",
    "# Evaluate on training data\n",
    "\n",
    "# Print results\n",
    "print(\"Accuracy: {0:.2f}%\".format(accuracy * 100.0))\n",
    "print(\"Confusion Matrix:\")\n",
    "print(conf_mx)"
   ]
  },
  {
   "cell_type": "markdown",
   "metadata": {},
   "source": [
    "<h2>Train on training data and evaluate model on test data</h2>"
   ]
  },
  {
   "cell_type": "code",
   "execution_count": 13,
   "metadata": {},
   "outputs": [
    {
     "name": "stdout",
     "output_type": "stream",
     "text": [
      "Accuracy: 0.00%\n",
      "Confusion Matrix:\n",
      "\n"
     ]
    }
   ],
   "source": [
    "# Define neural network model\n",
    "\n",
    "# Train model on training\n",
    "\n",
    "# Evaluate on test data\n",
    "\n",
    "# Print results\n",
    "print(\"Accuracy: {0:.2f}%\".format(accuracy * 100.0))\n",
    "print(\"Confusion Matrix:\")\n",
    "print(conf_mx)"
   ]
  },
  {
   "cell_type": "markdown",
   "metadata": {},
   "source": [
    "<h2>Predict new examples</h2>"
   ]
  },
  {
   "cell_type": "code",
   "execution_count": 14,
   "metadata": {},
   "outputs": [
    {
     "name": "stdout",
     "output_type": "stream",
     "text": [
      "Prediction: \n"
     ]
    }
   ],
   "source": [
    "# Create two new examples\n",
    "example = [\n",
    "    [6,149,71,34,0,33.6,0.637,48],\n",
    "    [1,83,67,28,0,27.6,0.359,32]\n",
    "]\n",
    "\n",
    "# Normalize values\n",
    "\n",
    "# Make prediction\n",
    "print(\"Prediction:\", res)"
   ]
  },
  {
   "cell_type": "code",
   "execution_count": null,
   "metadata": {},
   "outputs": [],
   "source": []
  }
 ],
 "metadata": {
  "kernelspec": {
   "display_name": "Python 3",
   "language": "python",
   "name": "python3"
  },
  "language_info": {
   "codemirror_mode": {
    "name": "ipython",
    "version": 3
   },
   "file_extension": ".py",
   "mimetype": "text/x-python",
   "name": "python",
   "nbconvert_exporter": "python",
   "pygments_lexer": "ipython3",
   "version": "3.7.2"
  }
 },
 "nbformat": 4,
 "nbformat_minor": 2
}
