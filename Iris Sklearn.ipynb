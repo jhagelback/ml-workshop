{
 "cells": [
  {
   "cell_type": "markdown",
   "metadata": {},
   "source": [
    "<h2>Iris dataset in Scikit-learn library</h2>"
   ]
  },
  {
   "cell_type": "markdown",
   "metadata": {},
   "source": [
    "<h2>Load data</h2>"
   ]
  },
  {
   "cell_type": "code",
   "execution_count": 29,
   "metadata": {},
   "outputs": [
    {
     "name": "stdout",
     "output_type": "stream",
     "text": [
      "Example:\n",
      "[-0.84488505  2.44447821  0.35643175  1.40909441 -0.69289057  1.38436175\n",
      "  2.784923   -0.95646168] -> YES = 1\n",
      "Data shape: (768, 8)\n"
     ]
    }
   ],
   "source": [
    "import pandas as pd\n",
    "from sklearn.utils import shuffle\n",
    "from sklearn.preprocessing import LabelEncoder\n",
    "from sklearn.preprocessing import StandardScaler\n",
    "\n",
    "# Load data\n",
    "url = \"https://raw.githubusercontent.com/jhagelback/ml-workshop/master/data/diabetes.csv\"\n",
    "np_data = pd.read_csv(url).values\n",
    "#print(np_data)\n",
    "\n",
    "# Split data into X and y\n",
    "X_raw = np_data[:,0:-1].astype(float)\n",
    "y_raw = np_data[:,-1]\n",
    "#print(X_raw)\n",
    "#print(y_raw)\n",
    "\n",
    "# Shuffle data\n",
    "X_raw, y_raw = shuffle(X_raw, y_raw, random_state=0)\n",
    "#print(y_raw)\n",
    "\n",
    "# Convert class label strings to integers\n",
    "encoder = LabelEncoder()\n",
    "encoder.fit(y_raw)\n",
    "y = encoder.transform(y_raw)\n",
    "\n",
    "# Normalize data to avoid high input values\n",
    "scaler = StandardScaler()\n",
    "scaler.fit(X_raw)\n",
    "X = scaler.transform(X_raw)\n",
    "\n",
    "# Print some stuff\n",
    "print(\"Example:\")\n",
    "print(X[0],\"->\",y_raw[0],\"=\",y[0])\n",
    "print(\"Data shape:\", X.shape)"
   ]
  },
  {
   "cell_type": "markdown",
   "metadata": {},
   "source": [
    "<h2>Train-test split</h2>"
   ]
  },
  {
   "cell_type": "code",
   "execution_count": 30,
   "metadata": {},
   "outputs": [
    {
     "name": "stdout",
     "output_type": "stream",
     "text": [
      "Training data shape: (614, 8)\n",
      "Test data shape: (154, 8)\n"
     ]
    }
   ],
   "source": [
    "from sklearn.model_selection import train_test_split\n",
    "\n",
    "# Split data into 80% training and 20% testing\n",
    "X_train, X_test, y_train, y_test = train_test_split(X, y, test_size=0.20, random_state=0)\n",
    "\n",
    "# Print some stuff\n",
    "print(\"Training data shape:\", X_train.shape)\n",
    "print(\"Test data shape:\", X_test.shape)"
   ]
  },
  {
   "cell_type": "markdown",
   "metadata": {},
   "source": [
    "<h2>Train and evaluate model on training data</h2>"
   ]
  },
  {
   "cell_type": "code",
   "execution_count": 31,
   "metadata": {},
   "outputs": [
    {
     "name": "stdout",
     "output_type": "stream",
     "text": [
      "Accuracy: 83.55%\n",
      "Confusion Matrix:\n",
      "[[368  37]\n",
      " [ 64 145]]\n"
     ]
    }
   ],
   "source": [
    "from sklearn.neural_network import MLPClassifier\n",
    "from sklearn.metrics import accuracy_score\n",
    "from sklearn.metrics import confusion_matrix\n",
    "\n",
    "# Define neural network model\n",
    "model = MLPClassifier(max_iter=1000, random_state=42)\n",
    "\n",
    "# Train model on training data\n",
    "model.fit(X_train, y_train)\n",
    "\n",
    "# Evaluate on training data\n",
    "y_pred = model.predict(X_train)\n",
    "accuracy = accuracy_score(y_train, y_pred)\n",
    "conf_mx = confusion_matrix(y_train, y_pred)\n",
    "\n",
    "# Print results\n",
    "print(\"Accuracy: {0:.2f}%\".format(accuracy * 100.0))\n",
    "print(\"Confusion Matrix:\")\n",
    "print(conf_mx)"
   ]
  },
  {
   "cell_type": "markdown",
   "metadata": {},
   "source": [
    "<h2>Train on training data and evaluate model on test data</h2>"
   ]
  },
  {
   "cell_type": "code",
   "execution_count": 32,
   "metadata": {},
   "outputs": [
    {
     "name": "stdout",
     "output_type": "stream",
     "text": [
      "Accuracy: 71.43%\n",
      "Confusion Matrix:\n",
      "[[85 10]\n",
      " [34 25]]\n"
     ]
    },
    {
     "name": "stderr",
     "output_type": "stream",
     "text": [
      "/Library/Frameworks/Python.framework/Versions/3.7/lib/python3.7/site-packages/sklearn/neural_network/multilayer_perceptron.py:562: ConvergenceWarning: Stochastic Optimizer: Maximum iterations (100) reached and the optimization hasn't converged yet.\n",
      "  % self.max_iter, ConvergenceWarning)\n"
     ]
    }
   ],
   "source": [
    "# Define neural network model\n",
    "model = MLPClassifier(max_iter=100, random_state=42)\n",
    "\n",
    "# Train model on training data\n",
    "model.fit(X_train, y_train)\n",
    "\n",
    "# Evaluate on training data\n",
    "y_pred = model.predict(X_test)\n",
    "accuracy = accuracy_score(y_test, y_pred)\n",
    "conf_mx = confusion_matrix(y_test, y_pred)\n",
    "\n",
    "# Print results\n",
    "print(\"Accuracy: {0:.2f}%\".format(accuracy * 100.0))\n",
    "print(\"Confusion Matrix:\")\n",
    "print(conf_mx)"
   ]
  },
  {
   "cell_type": "markdown",
   "metadata": {},
   "source": [
    "## Random Forest"
   ]
  },
  {
   "cell_type": "code",
   "execution_count": 33,
   "metadata": {},
   "outputs": [
    {
     "name": "stdout",
     "output_type": "stream",
     "text": [
      "Accuracy: 72.73%\n",
      "Confusion Matrix:\n",
      "[[81 14]\n",
      " [28 31]]\n"
     ]
    }
   ],
   "source": [
    "from sklearn.ensemble import RandomForestClassifier\n",
    "\n",
    "# Define Random Forest model\n",
    "model = RandomForestClassifier(n_estimators=25)\n",
    "\n",
    "# Train model on training data\n",
    "model.fit(X_train, y_train)\n",
    "\n",
    "# Evaluate on training data\n",
    "y_pred = model.predict(X_test)\n",
    "accuracy = accuracy_score(y_test, y_pred)\n",
    "conf_mx = confusion_matrix(y_test, y_pred)\n",
    "\n",
    "# Print results\n",
    "print(\"Accuracy: {0:.2f}%\".format(accuracy * 100.0))\n",
    "print(\"Confusion Matrix:\")\n",
    "print(conf_mx)"
   ]
  },
  {
   "cell_type": "markdown",
   "metadata": {},
   "source": [
    "<h2>Predict new examples</h2>"
   ]
  },
  {
   "cell_type": "code",
   "execution_count": 19,
   "metadata": {},
   "outputs": [
    {
     "name": "stdout",
     "output_type": "stream",
     "text": [
      "Prediction: [2]\n"
     ]
    }
   ],
   "source": [
    "# Create two new examples\n",
    "example = [\n",
    "    [6.1,2.6,5.0,1.5]\n",
    "]\n",
    "\n",
    "# Normalize values\n",
    "example = scaler.transform(example)\n",
    "\n",
    "# Make prediction\n",
    "res = model.predict(example)\n",
    "print(\"Prediction:\", res)"
   ]
  },
  {
   "cell_type": "code",
   "execution_count": null,
   "metadata": {},
   "outputs": [],
   "source": []
  }
 ],
 "metadata": {
  "kernelspec": {
   "display_name": "Python 3",
   "language": "python",
   "name": "python3"
  },
  "language_info": {
   "codemirror_mode": {
    "name": "ipython",
    "version": 3
   },
   "file_extension": ".py",
   "mimetype": "text/x-python",
   "name": "python",
   "nbconvert_exporter": "python",
   "pygments_lexer": "ipython3",
   "version": "3.7.2"
  }
 },
 "nbformat": 4,
 "nbformat_minor": 2
}
