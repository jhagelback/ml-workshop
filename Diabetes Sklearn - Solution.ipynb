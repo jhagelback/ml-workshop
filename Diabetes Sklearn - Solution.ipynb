{
 "cells": [
  {
   "cell_type": "markdown",
   "metadata": {},
   "source": [
    "<h2>Diabetes dataset in Scikit-learn library</h2>"
   ]
  },
  {
   "cell_type": "markdown",
   "metadata": {},
   "source": [
    "<h2>Load data</h2>"
   ]
  },
  {
   "cell_type": "code",
   "execution_count": 1,
   "metadata": {},
   "outputs": [
    {
     "name": "stdout",
     "output_type": "stream",
     "text": [
      "Example:\n",
      "[-0.84488505  2.44447821  0.35643175  1.40909441 -0.69289057  1.38436175\n",
      "  2.784923   -0.95646168] -> YES = 1\n",
      "\n",
      "Data shape: (768, 8)\n"
     ]
    }
   ],
   "source": [
    "import pandas as pd\n",
    "from sklearn.utils import shuffle\n",
    "from sklearn.preprocessing import LabelEncoder\n",
    "from sklearn.preprocessing import StandardScaler\n",
    "\n",
    "# Load data\n",
    "np_data = pd.read_csv(\"data/diabetes.csv\").values\n",
    "\n",
    "# Split data into X and y\n",
    "X_raw = np_data[:,0:-1].astype(float)\n",
    "y_raw = np_data[:,-1]\n",
    "\n",
    "# Shuffle data\n",
    "X_raw, y_raw = shuffle(X_raw, y_raw, random_state=0)\n",
    "\n",
    "# Convert class label strings to integers\n",
    "encoder = LabelEncoder()\n",
    "encoder.fit(y_raw)\n",
    "y = encoder.transform(y_raw)\n",
    "\n",
    "# Normalize data to avoid high input values\n",
    "scaler = StandardScaler()\n",
    "scaler.fit(X_raw)\n",
    "X = scaler.transform(X_raw)\n",
    "\n",
    "# Print some stuff\n",
    "print(\"Example:\")\n",
    "print(X[0], \"->\", y_raw[0], \"=\", y[0])\n",
    "print(\"\")\n",
    "print(\"Data shape:\", X.shape)"
   ]
  },
  {
   "cell_type": "markdown",
   "metadata": {},
   "source": [
    "<h2>Train-test split</h2>"
   ]
  },
  {
   "cell_type": "code",
   "execution_count": 2,
   "metadata": {},
   "outputs": [
    {
     "name": "stdout",
     "output_type": "stream",
     "text": [
      "Training data shape: (614, 8)\n",
      "Testing data shape: (154, 8)\n"
     ]
    }
   ],
   "source": [
    "from sklearn.model_selection import train_test_split\n",
    "\n",
    "# Split data into 80% training and 20% testing\n",
    "X_train, X_test, y_train, y_test = train_test_split(X, y, test_size=0.20)\n",
    "\n",
    "# Print some stuff\n",
    "print(\"Training data shape:\", X_train.shape)\n",
    "print(\"Testing data shape:\", X_test.shape)"
   ]
  },
  {
   "cell_type": "markdown",
   "metadata": {},
   "source": [
    "<h2>Train and evaluate model on training data</h2>"
   ]
  },
  {
   "cell_type": "code",
   "execution_count": 3,
   "metadata": {},
   "outputs": [
    {
     "name": "stdout",
     "output_type": "stream",
     "text": [
      "Accuracy: 84.36%\n",
      "Confusion Matrix:\n",
      "[[354  45]\n",
      " [ 51 164]]\n"
     ]
    }
   ],
   "source": [
    "from sklearn.neural_network import MLPClassifier\n",
    "from sklearn.metrics import accuracy_score\n",
    "from sklearn.metrics import confusion_matrix\n",
    "\n",
    "# Define neural network model\n",
    "model = MLPClassifier(max_iter=2000, random_state=42)\n",
    "\n",
    "# Train model on training data\n",
    "model.fit(X_train, y_train)\n",
    "\n",
    "# Evaluate on training data\n",
    "y_pred = model.predict(X_train)\n",
    "accuracy = accuracy_score(y_train, y_pred)\n",
    "conf_mx = confusion_matrix(y_train, y_pred)\n",
    "\n",
    "# Print results\n",
    "print(\"Accuracy: {0:.2f}%\".format(accuracy * 100.0))\n",
    "print(\"Confusion Matrix:\")\n",
    "print(conf_mx)"
   ]
  },
  {
   "cell_type": "markdown",
   "metadata": {},
   "source": [
    "<h2>Train on training data and evaluate model on test data</h2>"
   ]
  },
  {
   "cell_type": "code",
   "execution_count": 4,
   "metadata": {},
   "outputs": [
    {
     "name": "stdout",
     "output_type": "stream",
     "text": [
      "Accuracy: 75.97%\n",
      "Confusion Matrix:\n",
      "[[81 20]\n",
      " [17 36]]\n"
     ]
    }
   ],
   "source": [
    "# Define neural network model\n",
    "model = MLPClassifier(max_iter=2000, random_state=42)\n",
    "\n",
    "# Train model on training\n",
    "model.fit(X_train, y_train)\n",
    "\n",
    "# Evaluate on test data\n",
    "y_pred = model.predict(X_test)\n",
    "accuracy = accuracy_score(y_test, y_pred)\n",
    "conf_mx = confusion_matrix(y_test, y_pred)\n",
    "\n",
    "# Print results\n",
    "print(\"Accuracy: {0:.2f}%\".format(accuracy * 100.0))\n",
    "print(\"Confusion Matrix:\")\n",
    "print(conf_mx)"
   ]
  },
  {
   "cell_type": "markdown",
   "metadata": {},
   "source": [
    "<h2>Predict new examples</h2>"
   ]
  },
  {
   "cell_type": "code",
   "execution_count": 5,
   "metadata": {},
   "outputs": [
    {
     "name": "stdout",
     "output_type": "stream",
     "text": [
      "Prediction: [1 0]\n"
     ]
    }
   ],
   "source": [
    "# Create two new examples\n",
    "example = [\n",
    "    [6,149,71,34,0,33.6,0.637,48],\n",
    "    [1,83,67,28,0,27.6,0.359,32]\n",
    "]\n",
    "\n",
    "# Normalize values\n",
    "example = scaler.transform(example)\n",
    "\n",
    "# Make prediction\n",
    "res = model.predict(example)\n",
    "print(\"Prediction:\", res)"
   ]
  },
  {
   "cell_type": "code",
   "execution_count": null,
   "metadata": {},
   "outputs": [],
   "source": []
  }
 ],
 "metadata": {
  "kernelspec": {
   "display_name": "Python 3",
   "language": "python",
   "name": "python3"
  },
  "language_info": {
   "codemirror_mode": {
    "name": "ipython",
    "version": 3
   },
   "file_extension": ".py",
   "mimetype": "text/x-python",
   "name": "python",
   "nbconvert_exporter": "python",
   "pygments_lexer": "ipython3",
   "version": "3.7.2"
  }
 },
 "nbformat": 4,
 "nbformat_minor": 2
}
