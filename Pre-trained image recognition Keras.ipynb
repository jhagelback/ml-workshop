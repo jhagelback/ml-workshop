{
 "cells": [
  {
   "cell_type": "markdown",
   "metadata": {},
   "source": [
    "## Pre-trained image recognition networks\n",
    "Uses pre-trained ConvNet networks trained for the ImageNet challenge."
   ]
  },
  {
   "cell_type": "code",
   "execution_count": 2,
   "metadata": {},
   "outputs": [
    {
     "name": "stdout",
     "output_type": "stream",
     "text": [
      "Loading model xception\n"
     ]
    }
   ],
   "source": [
    "# Import the necessary packages\n",
    "from keras.applications import ResNet50\n",
    "from keras.applications import InceptionV3\n",
    "from keras.applications import Xception # TensorFlow ONLY\n",
    "from keras.applications import VGG16\n",
    "from keras.applications import VGG19\n",
    "from keras.applications import imagenet_utils\n",
    "from keras.applications.inception_v3 import preprocess_input\n",
    "from keras.preprocessing.image import img_to_array\n",
    "from keras.preprocessing.image import load_img\n",
    "from IPython.display import Image\n",
    "import numpy as np\n",
    "\n",
    "# Ignore deprecation warnings\n",
    "import warnings\n",
    "warnings.filterwarnings(\"ignore\", category=FutureWarning)\n",
    "\n",
    "# Available models in Keras\n",
    "MODELS = {\n",
    "    \"vgg16\": VGG16,\n",
    "    \"vgg19\": VGG19,\n",
    "    \"inception\": InceptionV3,\n",
    "    \"xception\": Xception, # TensorFlow ONLY\n",
    "    \"resnet\": ResNet50\n",
    "}\n",
    "\n",
    "# Loads the pre-trained model\n",
    "def load_model(model):\n",
    "    # Check that the model is valid\n",
    "    if model not in MODELS.keys():\n",
    "        raise AssertionError(\"Invalid model {}\".format(model))\n",
    "\n",
    "    # Initialize the input image shape (224x224 pixels) along with\n",
    "    # the pre-processing function (this might need to be changed\n",
    "    # based on which model we use to classify our image)\n",
    "    inputShape = (224, 224)\n",
    "    preprocess = imagenet_utils.preprocess_input\n",
    "\n",
    "    # If we are using the InceptionV3 or Xception networks, then we\n",
    "    # need to set the input shape to (299x299) [rather than (224x224)]\n",
    "    # and use a different image processing function\n",
    "    if model in (\"inception\", \"xception\"):\n",
    "        inputShape = (299, 299)\n",
    "        preprocess = preprocess_input\n",
    "\n",
    "    # Load our the network weights\n",
    "    print(\"Loading model {}\".format(model))\n",
    "    Network = MODELS[model]\n",
    "    model = Network(weights=\"imagenet\")\n",
    "    return model,inputShape,preprocess\n",
    "\n",
    "# Classifies an image, i.e. tries to find what's in the picture\n",
    "def classify_image(image_path):\n",
    "    # Load the input image using the Keras helper utility while ensuring\n",
    "    # the image is resized to `inputShape`, the required input dimensions\n",
    "    # for the ImageNet pre-trained network\n",
    "    print(\"Loading and pre-processing image '{}'\".format(image_path))\n",
    "    image = load_img(image_path, target_size=inputShape)\n",
    "    image = img_to_array(image)\n",
    "\n",
    "    # Our input image is now represented as a NumPy array of shape\n",
    "    # (inputShape[0], inputShape[1], 3) however we need to expand the\n",
    "    # dimension by making the shape (1, inputShape[0], inputShape[1], 3)\n",
    "    # so we can pass it through the network\n",
    "    image = np.expand_dims(image, axis=0)\n",
    "\n",
    "    # Pre-process the image using the appropriate function based on the\n",
    "    # model that has been loaded (i.e., mean subtraction, scaling, etc.)\n",
    "    image = preprocess(image)\n",
    "\n",
    "    # Classify the image\n",
    "    print(\"Classifying image with model '{}'\".format(model.name))\n",
    "    preds = model.predict(image)\n",
    "    P = imagenet_utils.decode_predictions(preds)\n",
    "\n",
    "    # Loop over the predictions and display the rank-5 predictions +\n",
    "    # probabilities to our terminal\n",
    "    for (i, (imagenetID, label, prob)) in enumerate(P[0]):\n",
    "        print(\"{}. {}: {:.2f}%\".format(i + 1, label, prob * 100))\n",
    "\n",
    "# Load the model we want\n",
    "model,inputShape,preprocess = load_model(\"xception\")"
   ]
  },
  {
   "cell_type": "code",
   "execution_count": null,
   "metadata": {},
   "outputs": [],
   "source": [
    "img = \"images/soccer_ball.jpg\"\n",
    "classify_image(img)\n",
    "Image(img, width=500)"
   ]
  },
  {
   "cell_type": "code",
   "execution_count": null,
   "metadata": {},
   "outputs": [],
   "source": [
    "img = \"images/boat.png\"\n",
    "classify_image(img)\n",
    "Image(img, width=500)"
   ]
  },
  {
   "cell_type": "code",
   "execution_count": null,
   "metadata": {},
   "outputs": [],
   "source": []
  }
 ],
 "metadata": {
  "kernelspec": {
   "display_name": "Python 3",
   "language": "python",
   "name": "python3"
  },
  "language_info": {
   "codemirror_mode": {
    "name": "ipython",
    "version": 3
   },
   "file_extension": ".py",
   "mimetype": "text/x-python",
   "name": "python",
   "nbconvert_exporter": "python",
   "pygments_lexer": "ipython3",
   "version": "3.7.2"
  }
 },
 "nbformat": 4,
 "nbformat_minor": 2
}
